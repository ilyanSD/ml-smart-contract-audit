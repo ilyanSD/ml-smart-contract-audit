{
  "cells": [
    {
      "cell_type": "code",
      "execution_count": 14,
      "metadata": {
        "id": "OqLa6pzONwqN"
      },
      "outputs": [],
      "source": [
        "vulnerable_sc_path = './smartbugs-curated/dataset'\n",
        "arithmetic_sc = vulnerable_sc_path + '/arithmetic/'\n",
        "\n",
        "contracts = './smartbugs-wild/contracts/'\n",
        "\n",
        "# %pip install numpy\n",
        "# %pip install pandas\n",
        "# %pip install matplotlib\n",
        "# %pip install seaborn\n",
        "import pandas as pd\n",
        "import matplotlib.pyplot as plt\n",
        "import seaborn as sns\n",
        "import numpy as np"
      ]
    },
    {
      "cell_type": "code",
      "execution_count": null,
      "metadata": {
        "colab": {
          "base_uri": "https://localhost:8080/"
        },
        "id": "36EoO9aKN4jq",
        "outputId": "9224f7ee-dda8-4f86-df51-1c2833f0d926"
      },
      "outputs": [
        {
          "name": "stdout",
          "output_type": "stream",
          "text": [
            "Requirement already satisfied: py-solc-x in ./env/lib/python3.9/site-packages (1.1.1)\n",
            "Requirement already satisfied: semantic-version<3,>=2.8.1 in ./env/lib/python3.9/site-packages (from py-solc-x) (2.10.0)\n",
            "Requirement already satisfied: requests<3,>=2.19.0 in ./env/lib/python3.9/site-packages (from py-solc-x) (2.30.0)\n",
            "Requirement already satisfied: certifi>=2017.4.17 in ./env/lib/python3.9/site-packages (from requests<3,>=2.19.0->py-solc-x) (2023.5.7)\n",
            "Requirement already satisfied: idna<4,>=2.5 in ./env/lib/python3.9/site-packages (from requests<3,>=2.19.0->py-solc-x) (3.4)\n",
            "Requirement already satisfied: urllib3<3,>=1.21.1 in ./env/lib/python3.9/site-packages (from requests<3,>=2.19.0->py-solc-x) (2.0.2)\n",
            "Requirement already satisfied: charset-normalizer<4,>=2 in ./env/lib/python3.9/site-packages (from requests<3,>=2.19.0->py-solc-x) (3.1.0)\n",
            "\u001b[33mWARNING: You are using pip version 19.2.3, however version 23.1.2 is available.\n",
            "You should consider upgrading via the 'pip install --upgrade pip' command.\u001b[0m\n",
            "Note: you may need to restart the kernel to use updated packages.\n",
            "Requirement already satisfied: solidity_parser in ./env/lib/python3.9/site-packages (0.1.1)\n",
            "Requirement already satisfied: antlr4-python3-runtime==4.9.3 in ./env/lib/python3.9/site-packages (from solidity_parser) (4.9.3)\n",
            "\u001b[33mWARNING: You are using pip version 19.2.3, however version 23.1.2 is available.\n",
            "You should consider upgrading via the 'pip install --upgrade pip' command.\u001b[0m\n",
            "Note: you may need to restart the kernel to use updated packages.\n"
          ]
        }
      ],
      "source": [
        "%pip install py-solc-x\n",
        "%pip install solidity_parser"
      ]
    },
    {
      "cell_type": "code",
      "execution_count": 3,
      "metadata": {
        "id": "IrLexQ8zgkaL"
      },
      "outputs": [],
      "source": [
        "from solidity_parser import parser\n",
        "import os"
      ]
    },
    {
      "cell_type": "code",
      "execution_count": 3,
      "metadata": {
        "id": "yTn4XYA2gjm5"
      },
      "outputs": [],
      "source": [
        "def get_nodes(ast, nodes, current_key):\n",
        "  if isinstance(ast, list):\n",
        "    for item in ast:\n",
        "      get_nodes(item, nodes, current_key)\n",
        "  elif isinstance(ast, dict):\n",
        "    for key in ast.keys():\n",
        "      get_nodes(ast[key], nodes, key)\n",
        "  else:\n",
        "    node = [current_key, ast]\n",
        "    if node not in nodes: # Maybe it's better to append all of them? Occurrence affects the model?\n",
        "      nodes.append(node)"
      ]
    },
    {
      "cell_type": "code",
      "execution_count": 5,
      "metadata": {
        "id": "uly-fMyagTsp"
      },
      "outputs": [],
      "source": [
        "def get_ast_arithmetic():\n",
        "  asts = []\n",
        "\n",
        "  for dirpath, dirnames, filenames in os.walk(arithmetic_sc):\n",
        "    for filename in filenames:\n",
        "      if filename.endswith('.sol'):\n",
        "        with open(arithmetic_sc + filename, 'r') as file:\n",
        "          source_code = file.read()\n",
        "          ast = parser.parse(source_code)\n",
        "          asts.append(ast)\n",
        "\n",
        "  return asts      \n",
        "\n",
        "asts_arithmetic = get_ast_arithmetic()"
      ]
    },
    {
      "cell_type": "code",
      "execution_count": 6,
      "metadata": {
        "colab": {
          "base_uri": "https://localhost:8080/"
        },
        "id": "Luw7jtXIhUql",
        "outputId": "2c9a0e18-a37a-44a9-fbe8-4f7c20329d6c"
      },
      "outputs": [
        {
          "name": "stdout",
          "output_type": "stream",
          "text": [
            "There are 15 Smart Contracts with Arithmetic Vulnerabilities\n",
            "Example of AST: {'type': 'SourceUnit', 'children': [{'type': 'PragmaDirective', 'name': 'solidity', 'value': '^0.4.18'}, {'type': 'ContractDefinition', 'name': 'Token', 'baseContracts': [], 'subNodes': [{'type': 'StateVariableDeclaration', 'variables': [{'type': 'VariableDeclaration', 'typeName': {'type': 'Mapping', 'keyType': {'type': 'ElementaryTypeName', 'name': 'address'}, 'valueType': {'type': 'ElementaryTypeName', 'name': 'uint'}}, 'name': 'balances', 'expression': None, 'visibility': 'default', 'isStateVar': True, 'isDeclaredConst': False, 'isIndexed': False}], 'initialValue': None}, {'type': 'StateVariableDeclaration', 'variables': [{'type': 'VariableDeclaration', 'typeName': {'type': 'ElementaryTypeName', 'name': 'uint'}, 'name': 'totalSupply', 'expression': None, 'visibility': 'public', 'isStateVar': True, 'isDeclaredConst': False, 'isIndexed': False}], 'initialValue': None}, {'type': 'FunctionDefinition', 'name': 'Token', 'parameters': {'type': 'ParameterList', 'parameters': [{'type': 'Parameter', 'typeName': {'type': 'ElementaryTypeName', 'name': 'uint'}, 'name': '_initialSupply', 'storageLocation': None, 'isStateVar': False, 'isIndexed': False}]}, 'returnParameters': [], 'body': {'type': 'Block', 'statements': [{'type': 'ExpressionStatement', 'expression': {'type': 'BinaryOperation', 'operator': '=', 'left': {'type': 'BinaryOperation', 'operator': '=', 'left': {'type': 'IndexAccess', 'base': {'type': 'Identifier', 'name': 'balances'}, 'index': {'type': 'MemberAccess', 'expression': {'type': 'Identifier', 'name': 'msg'}, 'memberName': 'sender'}}, 'right': {'type': 'Identifier', 'name': 'totalSupply'}}, 'right': {'type': 'Identifier', 'name': '_initialSupply'}}}]}, 'visibility': 'default', 'modifiers': [], 'isConstructor': False, 'isFallback': False, 'isReceive': False, 'stateMutability': None}, {'type': 'FunctionDefinition', 'name': 'transfer', 'parameters': {'type': 'ParameterList', 'parameters': [{'type': 'Parameter', 'typeName': {'type': 'ElementaryTypeName', 'name': 'address'}, 'name': '_to', 'storageLocation': None, 'isStateVar': False, 'isIndexed': False}, {'type': 'Parameter', 'typeName': {'type': 'ElementaryTypeName', 'name': 'uint'}, 'name': '_value', 'storageLocation': None, 'isStateVar': False, 'isIndexed': False}]}, 'returnParameters': {'type': 'ParameterList', 'parameters': [{'type': 'Parameter', 'typeName': {'type': 'ElementaryTypeName', 'name': 'bool'}, 'name': None, 'storageLocation': None, 'isStateVar': False, 'isIndexed': False}]}, 'body': {'type': 'Block', 'statements': [{'type': 'ExpressionStatement', 'expression': {'type': 'FunctionCall', 'expression': {'type': 'Identifier', 'name': 'require'}, 'arguments': [{'type': 'BinaryOperation', 'operator': '>=', 'left': {'type': 'BinaryOperation', 'operator': '-', 'left': {'type': 'IndexAccess', 'base': {'type': 'Identifier', 'name': 'balances'}, 'index': {'type': 'MemberAccess', 'expression': {'type': 'Identifier', 'name': 'msg'}, 'memberName': 'sender'}}, 'right': {'type': 'Identifier', 'name': '_value'}}, 'right': {'type': 'NumberLiteral', 'number': '0', 'subdenomination': None}}], 'names': []}}, {'type': 'ExpressionStatement', 'expression': {'type': 'BinaryOperation', 'operator': '-=', 'left': {'type': 'IndexAccess', 'base': {'type': 'Identifier', 'name': 'balances'}, 'index': {'type': 'MemberAccess', 'expression': {'type': 'Identifier', 'name': 'msg'}, 'memberName': 'sender'}}, 'right': {'type': 'Identifier', 'name': '_value'}}}, {'type': 'ExpressionStatement', 'expression': {'type': 'BinaryOperation', 'operator': '+=', 'left': {'type': 'IndexAccess', 'base': {'type': 'Identifier', 'name': 'balances'}, 'index': {'type': 'Identifier', 'name': '_to'}}, 'right': {'type': 'Identifier', 'name': '_value'}}}, {'type': 'BooleanLiteral', 'value': True}]}, 'visibility': 'public', 'modifiers': [], 'isConstructor': False, 'isFallback': False, 'isReceive': False, 'stateMutability': None}, {'type': 'FunctionDefinition', 'name': 'balanceOf', 'parameters': {'type': 'ParameterList', 'parameters': [{'type': 'Parameter', 'typeName': {'type': 'ElementaryTypeName', 'name': 'address'}, 'name': '_owner', 'storageLocation': None, 'isStateVar': False, 'isIndexed': False}]}, 'returnParameters': {'type': 'ParameterList', 'parameters': [{'type': 'Parameter', 'typeName': {'type': 'ElementaryTypeName', 'name': 'uint'}, 'name': 'balance', 'storageLocation': None, 'isStateVar': False, 'isIndexed': False}]}, 'body': {'type': 'Block', 'statements': [{'type': 'IndexAccess', 'base': {'type': 'Identifier', 'name': 'balances'}, 'index': {'type': 'Identifier', 'name': '_owner'}}]}, 'visibility': 'public', 'modifiers': [], 'isConstructor': False, 'isFallback': False, 'isReceive': False, 'stateMutability': 'constant'}], 'kind': 'contract'}]}\n"
          ]
        }
      ],
      "source": [
        "print(\"There are {} Smart Contracts with Arithmetic Vulnerabilities\".format(len(asts_arithmetic)))\n",
        "print(\"Example of AST: {}\".format(asts_arithmetic[0]))"
      ]
    },
    {
      "cell_type": "code",
      "execution_count": 7,
      "metadata": {
        "colab": {
          "base_uri": "https://localhost:8080/"
        },
        "id": "7XMLTRlUObo6",
        "outputId": "5be3f297-5f99-4e92-d1e8-5d6d3e826890"
      },
      "outputs": [
        {
          "name": "stdout",
          "output_type": "stream",
          "text": [
            "15\n",
            "[0.25388601 0.18134715 0.16062176 0.16062176 0.19170984 0.16062176\n",
            " 0.24352332 0.17098446 0.16062176 0.15544041 0.15025907 0.24870466\n",
            " 0.1865285  0.41450777 0.18134715]\n"
          ]
        }
      ],
      "source": [
        "def get_common_nodes(nodes_contract, nodes_arithmetic):\n",
        "  common_nodes = []\n",
        "  \n",
        "  for node_arithmetic in nodes_arithmetic:\n",
        "    nodes = []\n",
        "    for node in nodes_contract:\n",
        "      if node in node_arithmetic:\n",
        "        # print(\"Node: {} is present in the vulnerable contracts\".format(node))\n",
        "        nodes.append(node)\n",
        "      else:\n",
        "        # print(\"Node: {} is not present in AST2\".format(node))\n",
        "        pass\n",
        "    common_nodes.append(nodes)\n",
        "  \n",
        "  return common_nodes\n",
        "\n",
        "with open(contracts + '0x0000000000377d181a0ebd08590c6b399b272000.sol', 'r') as file:\n",
        "  contract = file.read()\n",
        "\n",
        "# Gives the AST representation of the contract that we are auditing\n",
        "ast_contract = parser.parse(contract)\n",
        "nodes_contract = []\n",
        "\n",
        "# Gives the nodes in a list format instead of a nested JSON with dictionaries and lists (This is useful to compare the nodes to the vulnerable ones)\n",
        "get_nodes(ast_contract, nodes_contract, None)\n",
        "\n",
        "nodes_arithmetic = []\n",
        "\n",
        "for ast in asts_arithmetic:\n",
        "  nodes = []\n",
        "  get_nodes(ast, nodes, None)\n",
        "  nodes_arithmetic.append(nodes)\n",
        "\n",
        "common_nodes = get_common_nodes(nodes_contract, nodes_arithmetic)\n",
        "\n",
        "print(len(common_nodes))\n",
        "\n",
        "percentage_of_common_nodes = []\n",
        "\n",
        "for i, nodes in enumerate(common_nodes):\n",
        "  percentage_of_common_nodes.append(len(nodes) / len(nodes_contract)) # nodes_contract or nodes_arithmetic[i]?\n",
        "\n",
        "print(np.array(percentage_of_common_nodes))\n",
        "  "
      ]
    },
    {
      "cell_type": "code",
      "execution_count": 8,
      "metadata": {
        "id": "qVDCpMu0x7fM"
      },
      "outputs": [
        {
          "name": "stdout",
          "output_type": "stream",
          "text": [
            "47555\n",
            "47555\n"
          ]
        }
      ],
      "source": [
        "# Get all the folders from inside the folder smartbugs-results/results/oyente/icse20\n",
        "\n",
        "directory_results_oyente = './smartbugs-results/results/oyente/icse20'\n",
        "\n",
        "contracts_folders_names = [item for item in os.listdir(directory_results_oyente) if os.path.isdir(os.path.join(directory_results_oyente, item))]\n",
        "print(len(contracts_folders_names))\n",
        "\n",
        "# Create an array to store whether they are arithmetically vulnerable or not\n",
        "contracts_vulnerability = {}\n",
        "\n",
        "import json\n",
        "\n",
        "for folder_name in contracts_folders_names:\n",
        "  with open(directory_results_oyente + '/' + folder_name + '/result.json', 'r') as file:\n",
        "    result = json.load(file)\n",
        "    is_vulnerable = 0\n",
        "    for analysis in result['analysis']:\n",
        "      if 'integer_overflow' in analysis:\n",
        "        if analysis['integer_overflow'] == True:\n",
        "          is_vulnerable = 1\n",
        "          break\n",
        "      if 'integer_underflow' in analysis:\n",
        "        if analysis['integer_underflow'] == True:\n",
        "          is_vulnerable = 1\n",
        "          break\n",
        "    contracts_vulnerability[folder_name] = is_vulnerable\n",
        "\n",
        "print(len(contracts_vulnerability))"
      ]
    },
    {
      "cell_type": "code",
      "execution_count": 17,
      "metadata": {},
      "outputs": [
        {
          "name": "stdout",
          "output_type": "stream",
          "text": [
            "0x0000000000027f6d87be8ade118d9ee56767d993: 1\n",
            "0x0000000000085d4780b73119b644ae5ecd22b376: 0\n",
            "0x00000000000da14c27c155bb7c1ac9bd7519eb3b: 0\n",
            "0x00000000000fe8503db73c68f1a1874eb9d86883: 0\n",
            "0x00000000002b13cccec913420a21e4d11b2dcd3c: 0\n",
            "0x0000000000377d181a0ebd08590c6b399b272000: 0\n",
            "0x000000000063b99b8036c31e91c64fc89bff9ca7: 0\n",
            "0x0000000000b3f879cb30fe243b4dfee438691c04: 1\n",
            "0x0000000000c5fd1aef1a9421626cf804086185e9: 0\n",
            "0x00000000037790973600b70888431f463bce360d: 0\n",
            "['0x0000000000027f6d87be8ade118d9ee56767d993'\n",
            " '0x0000000000085d4780b73119b644ae5ecd22b376'\n",
            " '0x00000000000da14c27c155bb7c1ac9bd7519eb3b'\n",
            " '0x00000000000fe8503db73c68f1a1874eb9d86883'\n",
            " '0x00000000002b13cccec913420a21e4d11b2dcd3c'\n",
            " '0x0000000000377d181a0ebd08590c6b399b272000'\n",
            " '0x000000000063b99b8036c31e91c64fc89bff9ca7'\n",
            " '0x0000000000b3f879cb30fe243b4dfee438691c04'\n",
            " '0x0000000000c5fd1aef1a9421626cf804086185e9'\n",
            " '0x00000000037790973600b70888431f463bce360d']\n",
            "47555\n"
          ]
        }
      ],
      "source": [
        "for key in sorted(contracts_vulnerability)[:10]:\n",
        "    print(\"%s: %s\" % (key, contracts_vulnerability[key]))\n",
        "\n",
        "sorted_contracts_keys = np.array(sorted(contracts_vulnerability))\n",
        "\n",
        "print(sorted_contracts_keys[:10])\n",
        "print(len(sorted_contracts_keys))"
      ]
    },
    {
      "cell_type": "code",
      "execution_count": 125,
      "metadata": {},
      "outputs": [
        {
          "name": "stdout",
          "output_type": "stream",
          "text": [
            "Collecting tqdm\n",
            "  Using cached https://files.pythonhosted.org/packages/e6/02/a2cff6306177ae6bc73bc0665065de51dfb3b9db7373e122e2735faf0d97/tqdm-4.65.0-py3-none-any.whl\n",
            "Installing collected packages: tqdm\n",
            "Successfully installed tqdm-4.65.0\n",
            "\u001b[33mWARNING: You are using pip version 19.2.3, however version 23.1.2 is available.\n",
            "You should consider upgrading via the 'pip install --upgrade pip' command.\u001b[0m\n",
            "Note: you may need to restart the kernel to use updated packages.\n"
          ]
        }
      ],
      "source": [
        "%pip install tqdm"
      ]
    },
    {
      "cell_type": "code",
      "execution_count": null,
      "metadata": {},
      "outputs": [],
      "source": [
        "from tqdm import tqdm\n",
        "input_data = np.array([])\n",
        "for key in tqdm(sorted_contracts_keys):\n",
        "  with open(contracts + key + '.sol', 'r') as file:\n",
        "    lines = len(file.readlines())\n",
        "  \n",
        "  if lines < 10:\n",
        "    print(\"Error with {}\".format(key)) # Remove this key from the dictionary contracts_vulnerability and from sorted_contracts_keys\n",
        "    print(\"Removing {} from the dictionary\".format(key))\n",
        "    # REMOVE FROM DICTIONARY\n",
        "    del contracts_vulnerability[key]\n",
        "  \n",
        "  try:\n",
        "    with open(contracts + key + '.sol', 'r') as file:\n",
        "      contract = file.read()\n",
        "\n",
        "    # Gives the AST representation of the contract that we are auditing\n",
        "    ast_contract = parser.parse(contract)\n",
        "    nodes_contract = []\n",
        "\n",
        "    # Gives the nodes in a list format instead of a nested JSON with dictionaries and lists (This is useful to compare the nodes to the vulnerable ones)\n",
        "    get_nodes(ast_contract, nodes_contract, None)\n",
        "\n",
        "    common_nodes = get_common_nodes(nodes_contract, nodes_arithmetic)\n",
        "\n",
        "    percentage_of_common_nodes = []\n",
        "\n",
        "    for i, nodes in enumerate(common_nodes):\n",
        "      percentage_of_common_nodes.append(len(nodes) / len(nodes_contract)) # nodes_contract or nodes_arithmetic[i]?\n",
        "      \n",
        "    if input_data.size == 0:\n",
        "      input_data = np.array(percentage_of_common_nodes)\n",
        "    elif input_data.size == 15:\n",
        "      input_data = np.append([input_data], [percentage_of_common_nodes], axis=0)\n",
        "    else:\n",
        "      input_data = np.append(input_data, [percentage_of_common_nodes], axis=0)\n",
        "  except:\n",
        "    print(\"Error with {}\".format(key)) # Remove this key from the dictionary contracts_vulnerability and from sorted_contracts_keys\n",
        "    print(\"Removing {} from the dictionary\".format(key))\n",
        "    # REMOVE FROM DICTIONARY\n",
        "    del contracts_vulnerability[key]\n",
        "      \n",
        "sorted_contracts_keys = sorted(contracts_vulnerability) # Already with the deleted keys"
      ]
    },
    {
      "cell_type": "code",
      "execution_count": 19,
      "metadata": {},
      "outputs": [
        {
          "name": "stdout",
          "output_type": "stream",
          "text": [
            "[1. 0. 0. 0. 0. 0. 0. 1. 0. 0.]\n",
            "47026\n"
          ]
        }
      ],
      "source": [
        "sorted_output_np = np.array([])\n",
        "\n",
        "for key in sorted_contracts_keys:\n",
        "  sorted_output_np = np.append(sorted_output_np, contracts_vulnerability[key])\n",
        "\n",
        "print(sorted_output_np[:10])\n",
        "print(sorted_output_np.size)"
      ]
    },
    {
      "cell_type": "code",
      "execution_count": 32,
      "metadata": {},
      "outputs": [
        {
          "name": "stdout",
          "output_type": "stream",
          "text": [
            "(47026,)\n",
            "(47026, 15)\n",
            "47026\n",
            "47026\n",
            "0x0000000000027f6d87be8ade118d9ee56767d993: 1.0\n",
            "0x0000000000085d4780b73119b644ae5ecd22b376: 0.0\n",
            "0x00000000000da14c27c155bb7c1ac9bd7519eb3b: 0.0\n",
            "0x00000000000fe8503db73c68f1a1874eb9d86883: 0.0\n",
            "0x00000000002b13cccec913420a21e4d11b2dcd3c: 0.0\n"
          ]
        }
      ],
      "source": [
        "print(sorted_output_np.shape)\n",
        "print(input_data.shape)\n",
        "print(len(sorted_contracts_keys))\n",
        "print(len(contracts_vulnerability))\n",
        "\n",
        "for i, key in enumerate(sorted_contracts_keys[:5]):\n",
        "    print(\"%s: %s\" % (key, sorted_output_np[i]))\n",
        "\n",
        "# We removed 529 contracts from the dataset that were corrupted or that had an error when parsing the AST"
      ]
    },
    {
      "cell_type": "code",
      "execution_count": 32,
      "metadata": {},
      "outputs": [],
      "source": [
        "import pickle as pkl\n",
        "import numpy as np\n",
        "\n",
        "input_data = np.array([])\n",
        "sorted_output_np = np.array([])\n",
        "sorted_contracts_keys = np.array([])\n",
        "contracts_vulnerability = {}\n",
        "\n",
        "with open('input_data.pkl', 'wb') as file:\n",
        "  pkl.dump(input_data, file)\n",
        "\n",
        "with open('output_data.pkl', 'wb') as file:\n",
        "  pkl.dump(sorted_output_np, file)\n",
        "  \n",
        "with open('sorted_contracts_keys.pkl', 'wb') as file:\n",
        "  pkl.dump(sorted_contracts_keys, file)\n",
        "\n",
        "with open('contracts_vulnerability.pkl', 'wb') as file:\n",
        "  pkl.dump(contracts_vulnerability, file)"
      ]
    },
    {
      "cell_type": "code",
      "execution_count": null,
      "metadata": {},
      "outputs": [],
      "source": [
        "# Minimum and maximum input data\n",
        "print(contracts_vulnerability)\n",
        "print(np.min(input_data))\n",
        "print(np.max(input_data))"
      ]
    },
    {
      "cell_type": "code",
      "execution_count": 34,
      "metadata": {},
      "outputs": [
        {
          "name": "stdout",
          "output_type": "stream",
          "text": [
            "Collecting scikit-learn\n",
            "\u001b[?25l  Downloading https://files.pythonhosted.org/packages/72/aa/a97b6ae8fc4ce0e1b3837b3613b0563ce843eb34cf4089fb41d613dee957/scikit_learn-1.2.2-cp39-cp39-macosx_10_9_x86_64.whl (9.1MB)\n",
            "\u001b[K     |████████████████████████████████| 9.1MB 3.1MB/s eta 0:00:01\n",
            "\u001b[?25hCollecting threadpoolctl>=2.0.0 (from scikit-learn)\n",
            "  Downloading https://files.pythonhosted.org/packages/61/cf/6e354304bcb9c6413c4e02a747b600061c21d38ba51e7e544ac7bc66aecc/threadpoolctl-3.1.0-py3-none-any.whl\n",
            "Collecting joblib>=1.1.1 (from scikit-learn)\n",
            "\u001b[?25l  Downloading https://files.pythonhosted.org/packages/91/d4/3b4c8e5a30604df4c7518c562d4bf0502f2fa29221459226e140cf846512/joblib-1.2.0-py3-none-any.whl (297kB)\n",
            "\u001b[K     |████████████████████████████████| 307kB 62.9MB/s eta 0:00:01\n",
            "\u001b[?25hRequirement already satisfied: numpy>=1.17.3 in ./env/lib/python3.9/site-packages (from scikit-learn) (1.24.3)\n",
            "Collecting scipy>=1.3.2 (from scikit-learn)\n",
            "  Using cached https://files.pythonhosted.org/packages/d9/7d/78b8035bc93c869b9f17261c87aae97a9cdb937f65f0d453c2831aa172fc/scipy-1.10.1-cp39-cp39-macosx_10_9_x86_64.whl\n",
            "Installing collected packages: threadpoolctl, joblib, scipy, scikit-learn\n",
            "Successfully installed joblib-1.2.0 scikit-learn-1.2.2 scipy-1.10.1 threadpoolctl-3.1.0\n",
            "\u001b[33mWARNING: You are using pip version 19.2.3, however version 23.1.2 is available.\n",
            "You should consider upgrading via the 'pip install --upgrade pip' command.\u001b[0m\n",
            "Note: you may need to restart the kernel to use updated packages.\n"
          ]
        }
      ],
      "source": [
        "%pip install scikit-learn"
      ]
    },
    {
      "cell_type": "code",
      "execution_count": 50,
      "metadata": {},
      "outputs": [
        {
          "name": "stdout",
          "output_type": "stream",
          "text": [
            "Best Hyperparameters: {'C': 1.0}\n",
            "Accuracy: 79.49%\n",
            "Precision: 80.00%\n",
            "Recall: 95.85%\n",
            "Cross-validation score: 79.55%\n"
          ]
        }
      ],
      "source": [
        "from sklearn.model_selection import train_test_split, GridSearchCV\n",
        "from sklearn.metrics import accuracy_score, precision_score, recall_score\n",
        "from sklearn.model_selection import cross_val_score\n",
        "from sklearn.linear_model import LogisticRegression\n",
        "\n",
        "# Split the data into training and testing sets\n",
        "X_train, X_test, y_train, y_test = train_test_split(input_data, sorted_output_np, test_size=0.2, random_state=42)\n",
        "\n",
        "# Create the logistic regression model\n",
        "model_LR = LogisticRegression(penalty='l1', solver='liblinear', max_iter=1000)\n",
        "\n",
        "# Define the grid of hyperparameters to search\n",
        "param_grid = {\n",
        "    'C': [0.1, 1.0, 10.0],\n",
        "}\n",
        "\n",
        "# Perform grid search with parallel processing\n",
        "grid_search = GridSearchCV(model_LR, param_grid, cv=5, n_jobs=-1)\n",
        "grid_search.fit(X_train, y_train)\n",
        "\n",
        "# Get the best model and its hyperparameters\n",
        "best_model = grid_search.best_estimator_\n",
        "best_params = grid_search.best_params_\n",
        "\n",
        "# Make predictions on the testing data using the best model\n",
        "predictions = best_model.predict(X_test)\n",
        "\n",
        "# Calculate metrics\n",
        "accuracy = accuracy_score(y_test, predictions) * 100\n",
        "precision = precision_score(y_test, predictions) * 100\n",
        "recall = recall_score(y_test, predictions) * 100\n",
        "cross_val_scores = cross_val_score(best_model, input_data, sorted_output_np, cv=5) * 100\n",
        "\n",
        "# Print the best hyperparameters and metrics\n",
        "print(\"Best Hyperparameters:\", best_params)\n",
        "print(\"Accuracy: {:.2f}%\".format(accuracy))\n",
        "print(\"Precision: {:.2f}%\".format(precision))\n",
        "print(\"Recall: {:.2f}%\".format(recall))\n",
        "print(\"Cross-validation score: {:.2f}%\".format(cross_val_scores.mean()))"
      ]
    },
    {
      "cell_type": "code",
      "execution_count": 51,
      "metadata": {},
      "outputs": [
        {
          "name": "stdout",
          "output_type": "stream",
          "text": [
            "Best Hyperparameters: {'max_depth': None, 'min_samples_split': 2}\n",
            "Accuracy: 83.16%\n",
            "Precision: 88.87%\n",
            "Recall: 87.92%\n",
            "Cross-validation score: 83.19%\n"
          ]
        }
      ],
      "source": [
        "from sklearn.tree import DecisionTreeClassifier\n",
        "\n",
        "# Split the data into training and testing sets\n",
        "X_train, X_test, y_train, y_test = train_test_split(input_data, sorted_output_np, test_size=0.2, random_state=42)\n",
        "\n",
        "# Create the decision tree classifier\n",
        "model_DTC = DecisionTreeClassifier()\n",
        "\n",
        "# Define the grid of hyperparameters to search\n",
        "param_grid = {\n",
        "    'max_depth': [None, 5, 10],\n",
        "    'min_samples_split': [2, 5, 10]\n",
        "}\n",
        "\n",
        "# Perform grid search with parallel processing\n",
        "grid_search = GridSearchCV(model_DTC, param_grid, cv=5, n_jobs=-1)\n",
        "grid_search.fit(X_train, y_train)\n",
        "\n",
        "# Get the best model and its hyperparameters\n",
        "best_model = grid_search.best_estimator_\n",
        "best_params = grid_search.best_params_\n",
        "\n",
        "# Make predictions on the testing data using the best model\n",
        "predictions = best_model.predict(X_test)\n",
        "\n",
        "# Calculate metrics\n",
        "accuracy = accuracy_score(y_test, predictions) * 100\n",
        "precision = precision_score(y_test, predictions) * 100\n",
        "recall = recall_score(y_test, predictions) * 100\n",
        "cross_val_scores = cross_val_score(best_model, input_data, sorted_output_np, cv=5) * 100\n",
        "\n",
        "# Print the best hyperparameters and metrics\n",
        "print(\"Best Hyperparameters:\", best_params)\n",
        "print(\"Accuracy: {:.2f}%\".format(accuracy))\n",
        "print(\"Precision: {:.2f}%\".format(precision))\n",
        "print(\"Recall: {:.2f}%\".format(recall))\n",
        "print(\"Cross-validation score: {:.2f}%\".format(cross_val_scores.mean()))"
      ]
    },
    {
      "cell_type": "code",
      "execution_count": 52,
      "metadata": {},
      "outputs": [
        {
          "name": "stdout",
          "output_type": "stream",
          "text": [
            "Best Hyperparameters: {'max_depth': None, 'min_samples_split': 2, 'n_estimators': 300}\n",
            "Accuracy: 87.41%\n",
            "Precision: 88.16%\n",
            "Recall: 95.58%\n",
            "Cross-validation score: 87.26%\n"
          ]
        }
      ],
      "source": [
        "from sklearn.ensemble import RandomForestClassifier\n",
        "\n",
        "# Split the data into training and testing sets\n",
        "X_train, X_test, y_train, y_test = train_test_split(input_data, sorted_output_np, test_size=0.2, random_state=42)\n",
        "\n",
        "# Create the random forest classifier\n",
        "model_RFC = RandomForestClassifier()\n",
        "\n",
        "# Define the grid of hyperparameters to search\n",
        "param_grid = {\n",
        "    'n_estimators': [100, 200, 300],\n",
        "    'max_depth': [None, 5, 10],\n",
        "    'min_samples_split': [2, 5, 10]\n",
        "}\n",
        "\n",
        "# Perform grid search with parallel processing\n",
        "grid_search = GridSearchCV(model_RFC, param_grid, cv=5, n_jobs=-1)\n",
        "grid_search.fit(X_train, y_train)\n",
        "\n",
        "# Get the best model and its hyperparameters\n",
        "best_model = grid_search.best_estimator_\n",
        "best_params = grid_search.best_params_\n",
        "\n",
        "# Make predictions on the testing data using the best model\n",
        "predictions = best_model.predict(X_test)\n",
        "\n",
        "# Calculate metrics\n",
        "accuracy = accuracy_score(y_test, predictions) * 100\n",
        "precision = precision_score(y_test, predictions) * 100\n",
        "recall = recall_score(y_test, predictions) * 100\n",
        "cross_val_scores = cross_val_score(best_model, input_data, sorted_output_np, cv=5) * 100\n",
        "\n",
        "# Print the best hyperparameters and metrics\n",
        "print(\"Best Hyperparameters:\", best_params)\n",
        "print(\"Accuracy: {:.2f}%\".format(accuracy))\n",
        "print(\"Precision: {:.2f}%\".format(precision))\n",
        "print(\"Recall: {:.2f}%\".format(recall))\n",
        "print(\"Cross-validation score: {:.2f}%\".format(cross_val_scores.mean()))"
      ]
    },
    {
      "cell_type": "code",
      "execution_count": 53,
      "metadata": {},
      "outputs": [
        {
          "name": "stdout",
          "output_type": "stream",
          "text": [
            "Best Hyperparameters: {'C': 10.0, 'kernel': 'rbf'}\n",
            "Accuracy: 80.15%\n",
            "Precision: 80.35%\n",
            "Recall: 96.34%\n",
            "Cross-validation score: 80.27%\n"
          ]
        }
      ],
      "source": [
        "from sklearn.svm import SVC\n",
        "\n",
        "# Split the data into training and testing sets\n",
        "X_train, X_test, y_train, y_test = train_test_split(input_data, sorted_output_np, test_size=0.2, random_state=42)\n",
        "\n",
        "# Create the Support Vector Classifier\n",
        "model_SVC = SVC()\n",
        "\n",
        "# Define the grid of hyperparameters to search\n",
        "param_grid = {\n",
        "    'C': [0.1, 1.0, 10.0],\n",
        "    'kernel': ['linear', 'rbf', 'poly']\n",
        "}\n",
        "\n",
        "# Perform grid search with parallel processing\n",
        "grid_search = GridSearchCV(model_SVC, param_grid, cv=5, n_jobs=-1)\n",
        "grid_search.fit(X_train, y_train)\n",
        "\n",
        "# Get the best model and its hyperparameters\n",
        "best_model = grid_search.best_estimator_\n",
        "best_params = grid_search.best_params_\n",
        "\n",
        "# Make predictions on the testing data using the best model\n",
        "predictions = best_model.predict(X_test)\n",
        "\n",
        "# Calculate metrics\n",
        "accuracy = accuracy_score(y_test, predictions) * 100\n",
        "precision = precision_score(y_test, predictions) * 100\n",
        "recall = recall_score(y_test, predictions) * 100\n",
        "cross_val_scores = cross_val_score(best_model, input_data, sorted_output_np, cv=5) * 100\n",
        "\n",
        "# Print the best hyperparameters and metrics\n",
        "print(\"Best Hyperparameters:\", best_params)\n",
        "print(\"Accuracy: {:.2f}%\".format(accuracy))\n",
        "print(\"Precision: {:.2f}%\".format(precision))\n",
        "print(\"Recall: {:.2f}%\".format(recall))\n",
        "print(\"Cross-validation score: {:.2f}%\".format(cross_val_scores.mean()))"
      ]
    },
    {
      "cell_type": "code",
      "execution_count": 54,
      "metadata": {},
      "outputs": [
        {
          "name": "stdout",
          "output_type": "stream",
          "text": [
            "Best Hyperparameters: {'learning_rate': 0.1, 'n_estimators': 300}\n",
            "Accuracy: 82.22%\n",
            "Precision: 82.21%\n",
            "Recall: 96.52%\n",
            "Cross-validation score: 82.36%\n"
          ]
        }
      ],
      "source": [
        "from sklearn.ensemble import GradientBoostingClassifier\n",
        "\n",
        "# Split the data into training and testing sets\n",
        "X_train, X_test, y_train, y_test = train_test_split(input_data, sorted_output_np, test_size=0.2, random_state=42)\n",
        "\n",
        "# Create the Gradient Boosting Classifier\n",
        "model_GBC = GradientBoostingClassifier()\n",
        "\n",
        "# Define the grid of hyperparameters to search\n",
        "param_grid = {\n",
        "    'n_estimators': [100, 200, 300],\n",
        "    'learning_rate': [0.1, 0.01, 0.001]\n",
        "}\n",
        "\n",
        "# Perform grid search with parallel processing\n",
        "grid_search = GridSearchCV(model_GBC, param_grid, cv=5, n_jobs=-1)\n",
        "grid_search.fit(X_train, y_train)\n",
        "\n",
        "# Get the best model and its hyperparameters\n",
        "best_model = grid_search.best_estimator_\n",
        "best_params = grid_search.best_params_\n",
        "\n",
        "# Make predictions on the testing data using the best model\n",
        "predictions = best_model.predict(X_test)\n",
        "\n",
        "# Calculate metrics\n",
        "accuracy = accuracy_score(y_test, predictions) * 100\n",
        "precision = precision_score(y_test, predictions) * 100\n",
        "recall = recall_score(y_test, predictions) * 100\n",
        "cross_val_scores = cross_val_score(best_model, input_data, sorted_output_np, cv=5) * 100\n",
        "\n",
        "# Print the best hyperparameters and metrics\n",
        "print(\"Best Hyperparameters:\", best_params)\n",
        "print(\"Accuracy: {:.2f}%\".format(accuracy))\n",
        "print(\"Precision: {:.2f}%\".format(precision))\n",
        "print(\"Recall: {:.2f}%\".format(recall))\n",
        "print(\"Cross-validation score: {:.2f}%\".format(cross_val_scores.mean()))"
      ]
    },
    {
      "cell_type": "code",
      "execution_count": 56,
      "metadata": {},
      "outputs": [
        {
          "name": "stdout",
          "output_type": "stream",
          "text": [
            "47555\n"
          ]
        }
      ],
      "source": [
        "arithmetic = {}\n",
        "\n",
        "for folder_name in contracts_folders_names:\n",
        "  with open(directory_results_oyente + '/' + folder_name + '/result.json', 'r') as file:\n",
        "    result = json.load(file)\n",
        "    is_vulnerable = 0\n",
        "    for analysis in result['analysis']:\n",
        "      if 'integer_overflow' in analysis:\n",
        "        if analysis['integer_overflow'] == True:\n",
        "          is_vulnerable = 1\n",
        "          break\n",
        "      if 'integer_underflow' in analysis:\n",
        "        if analysis['integer_underflow'] == True:\n",
        "          is_vulnerable = 1\n",
        "          break\n",
        "    arithmetic[folder_name] = is_vulnerable\n",
        "    \n",
        "print(len(arithmetic))"
      ]
    },
    {
      "cell_type": "code",
      "execution_count": 57,
      "metadata": {},
      "outputs": [
        {
          "name": "stdout",
          "output_type": "stream",
          "text": [
            "47555\n"
          ]
        }
      ],
      "source": [
        "re_entrancy = {}\n",
        "\n",
        "for folder_name in contracts_folders_names:\n",
        "  with open(directory_results_oyente + '/' + folder_name + '/result.json', 'r') as file:\n",
        "    result = json.load(file)\n",
        "    is_vulnerable = 0\n",
        "    for analysis in result['analysis']:\n",
        "      if 're-entrancy_vulnerability' in analysis:\n",
        "        if analysis['re-entrancy_vulnerability'] == True:\n",
        "          is_vulnerable = 1\n",
        "          break\n",
        "    re_entrancy[folder_name] = is_vulnerable\n",
        "    \n",
        "print(len(re_entrancy))"
      ]
    },
    {
      "cell_type": "code",
      "execution_count": 58,
      "metadata": {},
      "outputs": [
        {
          "name": "stdout",
          "output_type": "stream",
          "text": [
            "47555\n"
          ]
        }
      ],
      "source": [
        "timestamp = {}\n",
        "\n",
        "for folder_name in contracts_folders_names:\n",
        "  with open(directory_results_oyente + '/' + folder_name + '/result.json', 'r') as file:\n",
        "    result = json.load(file)\n",
        "    is_vulnerable = 0\n",
        "    for analysis in result['analysis']:\n",
        "      if 'timestamp_dependency' in analysis:\n",
        "        if analysis['timestamp_dependency'] == True:\n",
        "          is_vulnerable = 1\n",
        "          break\n",
        "    timestamp[folder_name] = is_vulnerable\n",
        "    \n",
        "print(len(timestamp))"
      ]
    },
    {
      "cell_type": "code",
      "execution_count": 59,
      "metadata": {},
      "outputs": [
        {
          "name": "stdout",
          "output_type": "stream",
          "text": [
            "47555\n"
          ]
        }
      ],
      "source": [
        "callstack = {}\n",
        "\n",
        "for folder_name in contracts_folders_names:\n",
        "  with open(directory_results_oyente + '/' + folder_name + '/result.json', 'r') as file:\n",
        "    result = json.load(file)\n",
        "    is_vulnerable = 0\n",
        "    for analysis in result['analysis']:\n",
        "      if 'callstack_depth_attack_vulnerability' in analysis:\n",
        "        if analysis['callstack_depth_attack_vulnerability'] == True:\n",
        "          is_vulnerable = 1\n",
        "          break\n",
        "    callstack[folder_name] = is_vulnerable\n",
        "    \n",
        "print(len(callstack))"
      ]
    },
    {
      "cell_type": "code",
      "execution_count": 60,
      "metadata": {},
      "outputs": [
        {
          "name": "stdout",
          "output_type": "stream",
          "text": [
            "34385\n",
            "310\n",
            "1460\n",
            "885\n"
          ]
        }
      ],
      "source": [
        "# Count all the vulnerabilities\n",
        "arithmetic_count = 0\n",
        "re_entrancy_count = 0\n",
        "timestamp_count = 0\n",
        "callstack_count = 0\n",
        "\n",
        "for key in arithmetic:\n",
        "  if arithmetic[key] == 1:\n",
        "    arithmetic_count += 1\n",
        "  if re_entrancy[key] == 1:\n",
        "    re_entrancy_count += 1\n",
        "  if timestamp[key] == 1:\n",
        "    timestamp_count += 1\n",
        "  if callstack[key] == 1:\n",
        "    callstack_count += 1\n",
        "    \n",
        "print(arithmetic_count)\n",
        "print(re_entrancy_count)\n",
        "print(timestamp_count)\n",
        "print(callstack_count)"
      ]
    },
    {
      "cell_type": "code",
      "execution_count": 61,
      "metadata": {},
      "outputs": [
        {
          "data": {
            "image/png": "[encoded data removed]",
            "text/plain": [
              "<Figure size 1000x500 with 1 Axes>"
            ]
          },
          "metadata": {},
          "output_type": "display_data"
        }
      ],
      "source": [
        "# Print them in a graph\n",
        "\n",
        "plt.figure(figsize=(10, 5))\n",
        "plt.bar(['Arithmetic', 'Re-entrancy', 'Timestamp', 'Callstack'], [arithmetic_count, re_entrancy_count, timestamp_count, callstack_count])\n",
        "plt.title('Vulnerabilities found by Oyente')\n",
        "plt.xlabel('Vulnerability')\n",
        "plt.ylabel('Number of contracts')\n",
        "plt.show()"
      ]
    },
    {
      "cell_type": "code",
      "execution_count": 63,
      "metadata": {},
      "outputs": [
        {
          "name": "stdout",
          "output_type": "stream",
          "text": [
            "Arithmetic: 72.31%\n",
            "Re-entrancy: 0.65%\n",
            "Timestamp: 3.07%\n",
            "Callstack: 1.86%\n"
          ]
        }
      ],
      "source": [
        "# Print percentage of the total number of contracts\n",
        "print('Arithmetic: {:.2f}%'.format(arithmetic_count / len(arithmetic) * 100))\n",
        "print('Re-entrancy: {:.2f}%'.format(re_entrancy_count / len(re_entrancy) * 100))\n",
        "print('Timestamp: {:.2f}%'.format(timestamp_count / len(timestamp) * 100))\n",
        "print('Callstack: {:.2f}%'.format(callstack_count / len(callstack) * 100))"
      ]
    },
    {
      "cell_type": "code",
      "execution_count": 1,
      "metadata": {},
      "outputs": [],
      "source": [
        "# Timestamp also known as Time manipulation\n",
        "# Callstack also known as Denial of Service"
      ]
    },
    {
      "cell_type": "code",
      "execution_count": 22,
      "metadata": {},
      "outputs": [
        {
          "name": "stdout",
          "output_type": "stream",
          "text": [
            "5625\n",
            "0\n",
            "2991\n",
            "0\n",
            "27154\n",
            "0\n",
            "21717\n",
            "0\n",
            "11129\n",
            "0\n",
            "26386\n",
            "0\n",
            "27156\n",
            "0\n",
            "5813\n",
            "0\n",
            "461\n",
            "0\n",
            "10711\n",
            "0\n"
          ]
        }
      ],
      "source": [
        "directory_all_contracts = './smartbugs-wild/contracts/'\n",
        "\n",
        "contracts_folders_names = os.listdir(directory_all_contracts)\n",
        "\n",
        "total_lines = []\n",
        "\n",
        "for contract in contracts_folders_names:\n",
        "  # Check extension\n",
        "  if contract.endswith('.sol'):\n",
        "    with open(directory_all_contracts + contract, 'r') as f:\n",
        "      lines = len(f.readlines())\n",
        "      total_lines.append(lines)"
      ]
    },
    {
      "cell_type": "code",
      "execution_count": 17,
      "metadata": {},
      "outputs": [
        {
          "data": {
            "image/png": "[encoded data removed]",
            "text/plain": [
              "<Figure size 1000x500 with 1 Axes>"
            ]
          },
          "metadata": {},
          "output_type": "display_data"
        }
      ],
      "source": [
        "np_total_lines = np.array(total_lines)\n",
        "\n",
        "max_lines = np_total_lines.max()\n",
        "\n",
        "# Plot in ranges of 1000 lines\n",
        "\n",
        "plt.figure(figsize=(10, 5))\n",
        "plt.hist(np_total_lines, bins=range(0, max_lines, 300))\n",
        "plt.title('Number of contracts by number of lines')\n",
        "plt.xlabel('Number of lines')\n",
        "plt.ylabel('Number of contracts')\n",
        "plt.show()"
      ]
    },
    {
      "cell_type": "code",
      "execution_count": 20,
      "metadata": {},
      "outputs": [
        {
          "name": "stdout",
          "output_type": "stream",
          "text": [
            "Average number of lines: 358.84\n",
            "Median number of lines: 223.00\n",
            "Standard deviation of number of lines: 458.75\n",
            "Minimum number of lines: 1.00\n",
            "Maximum number of lines: 11706.00\n"
          ]
        }
      ],
      "source": [
        "print('Average number of lines: {:.2f}'.format(np_total_lines.mean()))\n",
        "print('Median number of lines: {:.2f}'.format(np.median(np_total_lines)))\n",
        "print('Standard deviation of number of lines: {:.2f}'.format(np_total_lines.std()))\n",
        "print('Minimum number of lines: {:.2f}'.format(np_total_lines.min()))\n",
        "print('Maximum number of lines: {:.2f}'.format(np_total_lines.max()))"
      ]
    }
  ],
  "metadata": {
    "colab": {
      "provenance": []
    },
    "kernelspec": {
      "display_name": "Python 3",
      "name": "python3"
    },
    "language_info": {
      "codemirror_mode": {
        "name": "ipython",
        "version": 3
      },
      "file_extension": ".py",
      "mimetype": "text/x-python",
      "name": "python",
      "nbconvert_exporter": "python",
      "pygments_lexer": "ipython3",
      "version": "3.9.0"
    }
  },
  "nbformat": 4,
  "nbformat_minor": 0
}
